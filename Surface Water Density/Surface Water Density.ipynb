{
 "cells": [
  {
   "cell_type": "code",
   "execution_count": 1,
   "id": "0156fed2-9835-43ac-81cf-fbb4973719b1",
   "metadata": {},
   "outputs": [],
   "source": [
    "import numpy as np"
   ]
  },
  {
   "cell_type": "code",
   "execution_count": 4,
   "id": "84dd1c43-eb31-4742-a37a-a80ba0915aed",
   "metadata": {},
   "outputs": [],
   "source": [
    "d1 = np.loadtxt('SASA.dat')\n",
    "d2 = np.loadtxt('number_water.dat')"
   ]
  },
  {
   "cell_type": "code",
   "execution_count": 6,
   "id": "edd5f45a-550d-4e41-b28b-6ceeeee0983d",
   "metadata": {},
   "outputs": [
    {
     "name": "stdout",
     "output_type": "stream",
     "text": [
      "[0.08032381 0.07890852 0.07883801 ... 0.0778927  0.07845188 0.07918852]\n",
      "(3001,)\n"
     ]
    }
   ],
   "source": [
    "swd = d2/d1\n",
    "print(swd)\n",
    "print(swd.shape)"
   ]
  },
  {
   "cell_type": "code",
   "execution_count": 7,
   "id": "5a0b991c-698f-42c9-bdc1-15f813e4926d",
   "metadata": {},
   "outputs": [],
   "source": [
    "np.savetxt('surface_water_density.dat', swd, delimiter='\\t')"
   ]
  },
  {
   "cell_type": "code",
   "execution_count": null,
   "id": "48c5a22c-0b25-4ab2-9791-827e5a1b4aef",
   "metadata": {},
   "outputs": [],
   "source": []
  }
 ],
 "metadata": {
  "kernelspec": {
   "display_name": "Python 3 (ipykernel)",
   "language": "python",
   "name": "python3"
  },
  "language_info": {
   "codemirror_mode": {
    "name": "ipython",
    "version": 3
   },
   "file_extension": ".py",
   "mimetype": "text/x-python",
   "name": "python",
   "nbconvert_exporter": "python",
   "pygments_lexer": "ipython3",
   "version": "3.11.5"
  }
 },
 "nbformat": 4,
 "nbformat_minor": 5
}
