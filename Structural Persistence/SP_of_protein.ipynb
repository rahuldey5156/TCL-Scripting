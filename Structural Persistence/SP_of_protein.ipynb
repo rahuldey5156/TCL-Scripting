{
 "cells": [
  {
   "cell_type": "code",
   "execution_count": 1,
   "id": "d24ac87a-e99f-41d3-b992-d9d60d63f7fa",
   "metadata": {},
   "outputs": [],
   "source": [
    "import os\n",
    "import numpy as np"
   ]
  },
  {
   "cell_type": "code",
   "execution_count": 3,
   "id": "07371c51-eef3-40e1-878c-984af92b0cba",
   "metadata": {},
   "outputs": [
    {
     "name": "stdout",
     "output_type": "stream",
     "text": [
      "['chainB_sp.dat', 'chainD_sp.dat', 'chainC_sp.dat', 'chainA_sp.dat', 'chainE_sp.dat']\n"
     ]
    }
   ],
   "source": [
    "# Get list of all .dat files in the current directory\n",
    "dat_files = [f for f in os.listdir() if f.endswith('.dat')]\n",
    "print(dat_files)"
   ]
  },
  {
   "cell_type": "code",
   "execution_count": 4,
   "id": "35fd267e-3b52-4b6e-b12c-d1ac6b60bbcc",
   "metadata": {},
   "outputs": [],
   "source": [
    "# List to store the data from all files\n",
    "data_list = []"
   ]
  },
  {
   "cell_type": "code",
   "execution_count": 5,
   "id": "fddd173f-fb98-4d4e-bd99-e3c17e1c3be7",
   "metadata": {},
   "outputs": [],
   "source": [
    "# Loop through each .dat file in the current directory\n",
    "for filename in dat_files:\n",
    "    # Load the data, assuming space or tab as delimiter and ignoring the first row (header)\n",
    "    data = np.loadtxt(filename, delimiter=None)\n",
    "    \n",
    "    # Extract the 2nd column (index 1) and append to list\n",
    "    second_column = data[:, 1]\n",
    "    data_list.append(second_column)"
   ]
  },
  {
   "cell_type": "code",
   "execution_count": 6,
   "id": "685b4924-be14-4a17-95d8-ae5729438fa3",
   "metadata": {},
   "outputs": [],
   "source": [
    "# Stack the data to calculate row-wise average\n",
    "data_array = np.column_stack(data_list)"
   ]
  },
  {
   "cell_type": "code",
   "execution_count": 9,
   "id": "119f6136-8ed5-4ccb-a2c8-7e422932c154",
   "metadata": {},
   "outputs": [
    {
     "name": "stdout",
     "output_type": "stream",
     "text": [
      "[1.         0.99999806 0.8513345  ... 0.82116086 0.81131948 0.81131948]\n",
      "(6003,)\n"
     ]
    }
   ],
   "source": [
    "average = np.mean(data_array, axis=1)\n",
    "print(average)\n",
    "print(average.shape)"
   ]
  },
  {
   "cell_type": "code",
   "execution_count": 14,
   "id": "0c6197c5-8794-4685-b43a-3c45b7f0b299",
   "metadata": {},
   "outputs": [],
   "source": [
    "#Save this to a datafile\n",
    "np.savetxt('total_sp.dat', average,delimiter='\\t')"
   ]
  }
 ],
 "metadata": {
  "kernelspec": {
   "display_name": "Python 3 (ipykernel)",
   "language": "python",
   "name": "python3"
  },
  "language_info": {
   "codemirror_mode": {
    "name": "ipython",
    "version": 3
   },
   "file_extension": ".py",
   "mimetype": "text/x-python",
   "name": "python",
   "nbconvert_exporter": "python",
   "pygments_lexer": "ipython3",
   "version": "3.11.5"
  }
 },
 "nbformat": 4,
 "nbformat_minor": 5
}
