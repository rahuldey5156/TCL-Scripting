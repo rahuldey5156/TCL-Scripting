{
 "cells": [
  {
   "cell_type": "code",
   "execution_count": 2,
   "id": "0af1f9d0-85b1-4669-a6ed-d6a067c21230",
   "metadata": {},
   "outputs": [],
   "source": [
    "import mdtraj as md\n",
    "import numpy as np"
   ]
  },
  {
   "cell_type": "code",
   "execution_count": 3,
   "id": "c503e268-5e54-4223-bcc4-6b0de43e7f39",
   "metadata": {},
   "outputs": [],
   "source": [
    "file = md.load('protein_0ns.pdb')"
   ]
  },
  {
   "cell_type": "code",
   "execution_count": 4,
   "id": "a25e82e5-5d0e-47f8-895e-d2cf6718b222",
   "metadata": {},
   "outputs": [
    {
     "name": "stdout",
     "output_type": "stream",
     "text": [
      "365\n"
     ]
    }
   ],
   "source": [
    "#Total residues\n",
    "nr = (file.n_residues)\n",
    "print(nr)"
   ]
  },
  {
   "cell_type": "code",
   "execution_count": 6,
   "id": "6ff446cb-1beb-4331-8239-be38efd1f8f7",
   "metadata": {},
   "outputs": [
    {
     "name": "stdout",
     "output_type": "stream",
     "text": [
      "5.0\n"
     ]
    }
   ],
   "source": [
    "#No of chains\n",
    "nc = (file.n_residues)/(file.topology.chain(0).n_residues)\n",
    "print(nc)"
   ]
  },
  {
   "cell_type": "code",
   "execution_count": 7,
   "id": "641f1a63-d40f-4061-a8d4-8c5797f9976c",
   "metadata": {},
   "outputs": [
    {
     "name": "stdout",
     "output_type": "stream",
     "text": [
      "355.0\n"
     ]
    }
   ],
   "source": [
    "x = nr - (2*nc)\n",
    "print(x)"
   ]
  },
  {
   "cell_type": "code",
   "execution_count": 8,
   "id": "d0f8a86e-7981-4d17-906f-492a6dafa123",
   "metadata": {},
   "outputs": [],
   "source": [
    "datafile = np.loadtxt('total_percentage_beta_sheet.dat')"
   ]
  },
  {
   "cell_type": "code",
   "execution_count": 9,
   "id": "e7021ad5-26ff-430e-80b8-01f9d3395149",
   "metadata": {},
   "outputs": [
    {
     "name": "stdout",
     "output_type": "stream",
     "text": [
      "[0.65352113 0.63098592 0.63943662 ... 0.5971831  0.58873239 0.66760563]\n"
     ]
    }
   ],
   "source": [
    "beta_sheet = datafile/x\n",
    "print(beta_sheet)"
   ]
  },
  {
   "cell_type": "code",
   "execution_count": 10,
   "id": "0986b885-e00f-4a03-b724-925e6a13367e",
   "metadata": {},
   "outputs": [],
   "source": [
    "#Save this to a datafile\n",
    "np.savetxt('beta_sheet_percentage.dat', beta_sheet, delimiter='\\t')"
   ]
  },
  {
   "cell_type": "code",
   "execution_count": null,
   "id": "a21bd632-2e18-4300-81bd-8f8603b8bb0a",
   "metadata": {},
   "outputs": [],
   "source": []
  }
 ],
 "metadata": {
  "kernelspec": {
   "display_name": "Python 3 (ipykernel)",
   "language": "python",
   "name": "python3"
  },
  "language_info": {
   "codemirror_mode": {
    "name": "ipython",
    "version": 3
   },
   "file_extension": ".py",
   "mimetype": "text/x-python",
   "name": "python",
   "nbconvert_exporter": "python",
   "pygments_lexer": "ipython3",
   "version": "3.11.5"
  }
 },
 "nbformat": 4,
 "nbformat_minor": 5
}
