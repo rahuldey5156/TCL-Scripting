{
 "cells": [
  {
   "cell_type": "code",
   "execution_count": 8,
   "id": "cbd03dcb-7bc2-4841-b3b3-a713e33f95ad",
   "metadata": {},
   "outputs": [],
   "source": [
    "import numpy as np\n",
    "import mdtraj as md"
   ]
  },
  {
   "cell_type": "code",
   "execution_count": 9,
   "id": "b3f5d9f3-8612-4451-850d-bb08ee8d6607",
   "metadata": {},
   "outputs": [],
   "source": [
    "d = np.loadtxt('hydrophobic_sasa.dat')"
   ]
  },
  {
   "cell_type": "code",
   "execution_count": 10,
   "id": "5ef4bddd-a96c-411f-bc89-88b5344f6c35",
   "metadata": {},
   "outputs": [
    {
     "name": "stdout",
     "output_type": "stream",
     "text": [
      "115\n"
     ]
    }
   ],
   "source": [
    "u = md.load('protein_0ns.pdb')\n",
    "#no of hydrohobic residues in the protein\n",
    "hydrophobic_residues = u.topology.select(\"resname ALA ILE LEU MET PHE PRO TRP VAL and name CA\")\n",
    "num_hydrophobic_residues = len(hydrophobic_residues)\n",
    "print(num_hydrophobic_residues)"
   ]
  },
  {
   "cell_type": "code",
   "execution_count": 11,
   "id": "a82bdd94-6509-4805-856d-5df29dbf1292",
   "metadata": {},
   "outputs": [
    {
     "name": "stdout",
     "output_type": "stream",
     "text": [
      "[42.02598081 42.72202361 42.71908118 ... 41.69855639 41.50267918\n",
      " 42.33727072]\n"
     ]
    }
   ],
   "source": [
    "hydrophobic_sasa_per_res = d/num_hydrophobic_residues\n",
    "print(hydrophobic_sasa_per_res)"
   ]
  },
  {
   "cell_type": "code",
   "execution_count": 12,
   "id": "af670fe4-38cd-4a0d-ac2b-689ffffd9c1b",
   "metadata": {},
   "outputs": [],
   "source": [
    "average = np.mean(hydrophobic_sasa_per_res)\n",
    "standard_deviation = np.std(hydrophobic_sasa_per_res)"
   ]
  },
  {
   "cell_type": "code",
   "execution_count": 13,
   "id": "fc0d176d-559f-49a5-bf83-81410314fcfb",
   "metadata": {},
   "outputs": [
    {
     "name": "stdout",
     "output_type": "stream",
     "text": [
      "42.94069910488397 1.1330871807501\n"
     ]
    }
   ],
   "source": [
    "print(average, standard_deviation)"
   ]
  },
  {
   "cell_type": "code",
   "execution_count": null,
   "id": "58506169-5c86-433b-9be3-52985aae19c2",
   "metadata": {},
   "outputs": [],
   "source": []
  }
 ],
 "metadata": {
  "kernelspec": {
   "display_name": "Python 3 (ipykernel)",
   "language": "python",
   "name": "python3"
  },
  "language_info": {
   "codemirror_mode": {
    "name": "ipython",
    "version": 3
   },
   "file_extension": ".py",
   "mimetype": "text/x-python",
   "name": "python",
   "nbconvert_exporter": "python",
   "pygments_lexer": "ipython3",
   "version": "3.11.5"
  }
 },
 "nbformat": 4,
 "nbformat_minor": 5
}
